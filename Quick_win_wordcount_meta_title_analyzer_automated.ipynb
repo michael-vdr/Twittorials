{
  "nbformat": 4,
  "nbformat_minor": 0,
  "metadata": {
    "colab": {
      "name": "Quick-win wordcount meta title analyzer - automated",
      "provenance": [],
      "toc_visible": true,
      "authorship_tag": "ABX9TyMAHsfuM0gidTCuYnvbm9vw",
      "include_colab_link": true
    },
    "kernelspec": {
      "name": "python3",
      "display_name": "Python 3"
    },
    "language_info": {
      "name": "python"
    }
  },
  "cells": [
    {
      "cell_type": "markdown",
      "metadata": {
        "id": "view-in-github",
        "colab_type": "text"
      },
      "source": [
        "<a href=\"https://colab.research.google.com/github/michael-vdr/Twittorials/blob/master/Quick_win_wordcount_meta_title_analyzer_automated.ipynb\" target=\"_parent\"><img src=\"https://colab.research.google.com/assets/colab-badge.svg\" alt=\"Open In Colab\"/></a>"
      ]
    },
    {
      "cell_type": "markdown",
      "metadata": {
        "id": "g7GNchgUPLYP"
      },
      "source": [
        "\n",
        "\n",
        "\n",
        "\n",
        "### Resources\n",
        "Fill in the fields, upload the credentials.json file\n",
        "This connects with the Search Console API and will scrape meta titles using beautful soup\n"
      ]
    },
    {
      "cell_type": "markdown",
      "metadata": {
        "id": "XuDOQr49gX2U"
      },
      "source": [
        "### Step 0: Language settings / Search console credentials"
      ]
    },
    {
      "cell_type": "code",
      "metadata": {
        "id": "EyvSC6yGPOhg"
      },
      "source": [
        "langcode=\"\" #@param {type:\"string\"}\n",
        "language=\"\" #@param {type:\"string\"}\n",
        "consoledomain=\"\" #@param {type:\"string\"}\n",
        "brandname=\"\" #@param {type:\"string\"}\n"
      ],
      "execution_count": null,
      "outputs": []
    },
    {
      "cell_type": "markdown",
      "metadata": {
        "id": "0bdAizvgxvZZ"
      },
      "source": [
        "#### Upload credentials.json"
      ]
    },
    {
      "cell_type": "code",
      "metadata": {
        "id": "X-j-inKvxtCE"
      },
      "source": [
        "from google.colab import files\n",
        "import io\n",
        "uploaded = files.upload()\n",
        "jsoncredentials = str(uploaded).split(\"'\")[1]\n",
        "numberqueries=100 #@param\n"
      ],
      "execution_count": null,
      "outputs": []
    },
    {
      "cell_type": "markdown",
      "metadata": {
        "id": "Ef3LDQ4dJEa8"
      },
      "source": [
        "### Step 1 : Import modules"
      ]
    },
    {
      "cell_type": "code",
      "metadata": {
        "id": "ERk4sK-dG-E3"
      },
      "source": [
        "#import modules\n",
        "import pandas as pd \n",
        "#input/output modules for uploading and downloading files\n",
        "import datetime\n",
        "#install nlp modules not yet available in colab\n",
        "!pip install git+https://github.com/joshcarty/google-searchconsole\n",
        "!pip install stop_words\n",
        "!pip install python-levenshtein\n",
        "import searchconsole\n",
        "import re #NLP regex module\n",
        "import nltk #general NLP module\n",
        "from nltk.stem.snowball import SnowballStemmer #NLP stemming module\n",
        "from Levenshtein import * #NLP distance caluclator\n",
        "from stop_words import get_stop_words #stop words NLP library\n",
        "from bs4 import BeautifulSoup\n",
        "import requests\n",
        "nltk.download('punkt') #tokenizer NLP \n",
        "nltk.download('stopwords')"
      ],
      "execution_count": null,
      "outputs": []
    },
    {
      "cell_type": "markdown",
      "metadata": {
        "id": "i6One85lJHUl"
      },
      "source": [
        "### Step 2 : Search queries by page"
      ]
    },
    {
      "cell_type": "code",
      "metadata": {
        "id": "OpKBm2qrGvmL"
      },
      "source": [
        "#Step 2: upload the page title file\n",
        "#search console gegevens\n",
        "from datetime import date\n",
        "account = searchconsole.authenticate(client_config='client_secrets.json',credentials='credentials.json')\n",
        "webproperty=account[consoledomain]\n",
        "datum = date.today().strftime('%Y-%m-%d')\n",
        "report1 = webproperty.query.range(datum, days=-30).filter('query',brandname,'notContains').dimension('query','page').get()\n",
        "keywordlist=list()\n",
        "for row in report1:\n",
        "    keywordlist.append([row[0],row[1],row[2],row[3],row[4],row[5]])\n",
        "df = pd.DataFrame(keywordlist)\n",
        "#columns aanpassen\n",
        "df.columns=[\"Search Query\",\"Landing page\",\"Clicks\",\"Impressions\",\"Ctr\",\"Position\"]\n",
        "df['Index']=df.index\n",
        "df=df.head(numberqueries)\n",
        "df.head()"
      ],
      "execution_count": null,
      "outputs": []
    },
    {
      "cell_type": "markdown",
      "metadata": {
        "id": "CeRsYqv-JOgP"
      },
      "source": [
        "### Step 3: Scrape titles function\n",
        "\n",
        "---\n",
        "\n"
      ]
    },
    {
      "cell_type": "code",
      "metadata": {
        "id": "viH3L4GBG0RC"
      },
      "source": [
        "def get_metatitle(url):\n",
        "    reqs = requests.get(url)\n",
        "    soup = BeautifulSoup(reqs.text, 'html.parser')\n",
        "    title = soup.find(\"title\")\n",
        "    # displaying the title\n",
        "    return title.get_text()\n",
        "\n"
      ],
      "execution_count": null,
      "outputs": []
    },
    {
      "cell_type": "markdown",
      "metadata": {
        "id": "k7kybmsVLz9Z"
      },
      "source": [
        "### Step 4: Combining dataframes"
      ]
    },
    {
      "cell_type": "code",
      "metadata": {
        "id": "BpXupoVqKfjP"
      },
      "source": [
        "df[\"Title\"]=df.apply(lambda x:get_metatitle(x[\"Landing page\"]),axis=1)\n",
        "df.head()"
      ],
      "execution_count": null,
      "outputs": []
    },
    {
      "cell_type": "markdown",
      "metadata": {
        "id": "3jaTHiDZM7Rp"
      },
      "source": [
        "### Step 5: Count number of words"
      ]
    },
    {
      "cell_type": "code",
      "metadata": {
        "id": "RcGAZRAeLxBV"
      },
      "source": [
        "stop_words = get_stop_words(langcode)\n",
        "\n",
        "def number_words(sentence):\n",
        "  sentencewords = nltk.word_tokenize(str(sentence).lower()) \n",
        "  not_stop_words=[]\n",
        "  for word in sentencewords:\n",
        "    if(word not in stop_words):\n",
        "        not_stop_words.append(word)\n",
        "  sentencelength = len(not_stop_words)\n",
        "  return sentencelength\n",
        "\n",
        "df[\"Words in query\"]=df.apply(lambda x:number_words(x[\"Search Query\"]),axis=1)\n",
        "df[\"Words in title\"]=df.apply(lambda x:number_words(x[\"Title\"]),axis=1)\n",
        "df.head()"
      ],
      "execution_count": null,
      "outputs": []
    },
    {
      "cell_type": "markdown",
      "metadata": {
        "id": "V1fi0jWVORjb"
      },
      "source": [
        "### Step 6: Count number of common words\n",
        "words of query in title"
      ]
    },
    {
      "cell_type": "code",
      "metadata": {
        "id": "jV_z9Yg_OJta"
      },
      "source": [
        "def common_words(query,title):\n",
        "    stemmer  = SnowballStemmer(language, ignore_stopwords=True)\n",
        "    titlewords = nltk.word_tokenize(str(title).lower())\n",
        "    stemtitlewords = [stemmer.stem(word) for word in titlewords]\n",
        "    querywords = nltk.word_tokenize(str(query).lower()) \n",
        "    stemquerywords = [stemmer.stem(word) for word in querywords]\n",
        "    titlenospaces=title.replace(' ','').lower()\n",
        "    title_only_text = re.sub(r'\\W+', '', titlenospaces)\n",
        "    \n",
        "    lev_distance=0  \n",
        "    commonwords=0\n",
        "\n",
        "    for word in stemquerywords:\n",
        "      if(word not in stop_words):\n",
        "          #literal word check\n",
        "          if(word in title_only_text):\n",
        "              commonwords=commonwords+1         \n",
        "          else:\n",
        "          #check with word with title stemmed and for misspellings\n",
        "            for word2 in stemtitlewords:\n",
        "                lev_distance = distance(str(word),str(word2))\n",
        "                procent_distance = lev_distance/(len(word)+len(word2)/2)\n",
        "                if procent_distance<0.15:\n",
        "                    commonwords=commonwords+1\n",
        "    return commonwords\n",
        "    \n",
        "df[\"Common words\"]=df.apply(lambda x:common_words(x[\"Search Query\"],x[\"Title\"]),axis=1)\n",
        "df.sample(5)"
      ],
      "execution_count": null,
      "outputs": []
    },
    {
      "cell_type": "markdown",
      "metadata": {
        "id": "Ub07Rbcscivu"
      },
      "source": [
        "### Step 7 sort and explore table"
      ]
    },
    {
      "cell_type": "code",
      "metadata": {
        "id": "3U2yyCv-ce98"
      },
      "source": [
        "%load_ext google.colab.data_table\n",
        "\n",
        "print(\"Possible optimizations\")\n",
        "print(\"----------------------\")\n",
        "\n",
        "df=df.sort_values(by=['Common words', 'Words in query'], ascending=[True, False])\n",
        "df.head()"
      ],
      "execution_count": null,
      "outputs": []
    },
    {
      "cell_type": "markdown",
      "metadata": {
        "id": "NTrldp50T60q"
      },
      "source": [
        "### Additional step: Export and download"
      ]
    },
    {
      "cell_type": "code",
      "metadata": {
        "id": "fMqHR2HGUDsi"
      },
      "source": [
        "#automatically download\n",
        "df.to_csv('export.csv')\n",
        "files.download('export.csv') "
      ],
      "execution_count": null,
      "outputs": []
    }
  ]
}